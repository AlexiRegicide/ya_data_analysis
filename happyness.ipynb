{
  "nbformat": 4,
  "nbformat_minor": 0,
  "metadata": {
    "colab": {
      "provenance": [],
      "authorship_tag": "ABX9TyOgZyFbizPbIpnStO4dCy3H",
      "include_colab_link": true
    },
    "kernelspec": {
      "name": "python3",
      "display_name": "Python 3"
    },
    "language_info": {
      "name": "python"
    }
  },
  "cells": [
    {
      "cell_type": "markdown",
      "metadata": {
        "id": "view-in-github",
        "colab_type": "text"
      },
      "source": [
        "<a href=\"https://colab.research.google.com/github/AlexiRegicide/ya_data_analysis/blob/main/happyness.ipynb\" target=\"_parent\"><img src=\"https://colab.research.google.com/assets/colab-badge.svg\" alt=\"Open In Colab\"/></a>"
      ]
    },
    {
      "cell_type": "markdown",
      "source": [
        "# Введение в задачу"
      ],
      "metadata": {
        "id": "PeNMX-hX_oOE"
      }
    },
    {
      "cell_type": "markdown",
      "source": [
        "Всемирный доклад ООН о счастье содержит данные об опросе людей в разных странах, в котором они оценивают свой общий уровень счастья, а также уровне удовлетворения в отдельных аспектах. Репрезентативные национальные выборки респондентов просят ответить на ряд вопросов по шкале от нуля до десяти, где десять — это лучшая из возможных жизней, а ноль — худшая. Ответы отдельных респондентов усредняются для получения общего для страны показателя. Попробуем исследовать данные за 2019 год, чтобы лучше понять их структуру. CSV-файл доступен под названием “2019.csv”."
      ],
      "metadata": {
        "id": "RW-I7hEg_w6-"
      }
    },
    {
      "cell_type": "markdown",
      "source": [
        "# Меньше и больше счастья"
      ],
      "metadata": {
        "id": "zRtbnYfs4IK6"
      }
    },
    {
      "cell_type": "code",
      "source": [
        "import pandas as pd"
      ],
      "metadata": {
        "id": "CVe86EW0y1oz"
      },
      "execution_count": null,
      "outputs": []
    },
    {
      "cell_type": "code",
      "source": [
        "happy_df = pd.read_csv('2019.csv')"
      ],
      "metadata": {
        "id": "oSdLr3723Tyr"
      },
      "execution_count": null,
      "outputs": []
    },
    {
      "cell_type": "code",
      "source": [
        "happy_df.info()"
      ],
      "metadata": {
        "id": "BQRuMK5a3biq"
      },
      "execution_count": null,
      "outputs": []
    },
    {
      "cell_type": "code",
      "source": [
        "happy_df['Score'].max()"
      ],
      "metadata": {
        "id": "cc1Y-VQ83hHK"
      },
      "execution_count": null,
      "outputs": []
    },
    {
      "cell_type": "code",
      "source": [
        "happy_df['Score'].min()"
      ],
      "metadata": {
        "id": "ogWN55Wk30KH"
      },
      "execution_count": null,
      "outputs": []
    },
    {
      "cell_type": "markdown",
      "source": [
        "# Средний уровень счастья"
      ],
      "metadata": {
        "id": "smpTOl7K7_dV"
      }
    },
    {
      "cell_type": "code",
      "source": [
        "happy_df['Score'].mean()"
      ],
      "metadata": {
        "id": "cfTx1iGi790I"
      },
      "execution_count": null,
      "outputs": []
    },
    {
      "cell_type": "markdown",
      "source": [
        "# Медианный уроень"
      ],
      "metadata": {
        "id": "ZZYjbgky_GyD"
      }
    },
    {
      "cell_type": "code",
      "source": [
        "happy_df['Score'].median()"
      ],
      "metadata": {
        "id": "h-SCKaQR_NoH"
      },
      "execution_count": null,
      "outputs": []
    },
    {
      "cell_type": "markdown",
      "source": [
        "#  Мода среди всех стран"
      ],
      "metadata": {
        "id": "RjDO9KLH_7Ad"
      }
    },
    {
      "cell_type": "markdown",
      "source": [
        "**Мода** — значение признака, которое встречается наиболее часто во множестве наблюдений."
      ],
      "metadata": {
        "id": "TRDdIhKLCIGn"
      }
    },
    {
      "cell_type": "code",
      "source": [
        "happy_df['Score'].mode()[0]"
      ],
      "metadata": {
        "id": "0miMosqwAEHQ"
      },
      "execution_count": null,
      "outputs": []
    },
    {
      "cell_type": "markdown",
      "source": [
        "# Стандартное отклонение"
      ],
      "metadata": {
        "id": "Zxp5FgPJB78a"
      }
    },
    {
      "cell_type": "markdown",
      "source": [
        "**Дисперсия** — мера средней степени различий наблюдений и среднего.\n",
        "Чтобы её посчитать, нужно:\n",
        "*   посчитать разницу между значением каждого отдельного наблюдения и среднего арифметического;\n",
        "*   возвести её в квадрат;\n",
        "*   суммировать получившиеся числа;\n",
        "*   вычесть из числа наблюдений единицу;\n",
        "*   поделить сумму возведённых в квардрат разниц на число из предыдущего шага.\n",
        "\n",
        "\n",
        "\n",
        "\n"
      ],
      "metadata": {
        "id": "U2SvUoEKCUzV"
      }
    },
    {
      "cell_type": "markdown",
      "source": [
        "**Стандартное отклонение** — показатель рассеивания значений случайной величины относительно её математического ожидания. Вычисляется оно как квадратный корень из дисперсии."
      ],
      "metadata": {
        "id": "GY95PlIKCMW4"
      }
    },
    {
      "cell_type": "code",
      "source": [
        "happy_df['Score'].std()"
      ],
      "metadata": {
        "id": "In76URSOOIGb"
      },
      "execution_count": null,
      "outputs": []
    },
    {
      "cell_type": "markdown",
      "source": [
        "# Самые счастливые страны"
      ],
      "metadata": {
        "id": "xg8Um6fHHu7g"
      }
    },
    {
      "cell_type": "markdown",
      "source": [
        "*Отсортируйте наблюдения по уровню счастья, затем выберите единственную колонку с названиями регионов, а потом выведите первые 10 наблюдений.*"
      ],
      "metadata": {
        "id": "Cnj1JtFrH1Oo"
      }
    },
    {
      "cell_type": "code",
      "source": [
        "happy_df[['Country or region', 'Score']]"
      ],
      "metadata": {
        "id": "YxP0ukJaH6xp"
      },
      "execution_count": null,
      "outputs": []
    },
    {
      "cell_type": "code",
      "source": [
        "most_happy = happy_df[['Country or region', 'Score']]\n",
        "countries = most_happy['Country or region'].head(10)\n",
        "countries.tolist()"
      ],
      "metadata": {
        "id": "rS5RDI9QKE5t"
      },
      "execution_count": null,
      "outputs": []
    },
    {
      "cell_type": "markdown",
      "source": [
        "# ВВП всех стран"
      ],
      "metadata": {
        "id": "bD2KKKm7MPQ7"
      }
    },
    {
      "cell_type": "code",
      "source": [
        "happy_df['GDP per capita'].sum()"
      ],
      "metadata": {
        "id": "CuRvM542MXUL"
      },
      "execution_count": null,
      "outputs": []
    },
    {
      "cell_type": "markdown",
      "source": [
        "# ВВП первых десяти стран"
      ],
      "metadata": {
        "id": "K5rN2tktN5Z7"
      }
    },
    {
      "cell_type": "code",
      "source": [
        "coollest_vvp = happy_df['GDP per capita'].head(10)\n",
        "coollest_vvp.sum()"
      ],
      "metadata": {
        "id": "N0KjwlY7N-8h"
      },
      "execution_count": null,
      "outputs": []
    }
  ]
}